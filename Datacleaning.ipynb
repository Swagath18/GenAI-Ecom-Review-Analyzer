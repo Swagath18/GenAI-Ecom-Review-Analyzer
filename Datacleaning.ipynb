{
 "cells": [
  {
   "cell_type": "markdown",
   "metadata": {},
   "source": [
    "env = projectai"
   ]
  },
  {
   "cell_type": "code",
   "execution_count": 2,
   "metadata": {},
   "outputs": [],
   "source": [
    "import pandas as pd\n",
    "import numpy as np\n",
    "import matplotlib.pyplot as plt\n",
    "import seaborn as sns"
   ]
  },
  {
   "cell_type": "code",
   "execution_count": null,
   "metadata": {},
   "outputs": [
    {
     "data": {
      "text/html": [
       "<div>\n",
       "<style scoped>\n",
       "    .dataframe tbody tr th:only-of-type {\n",
       "        vertical-align: middle;\n",
       "    }\n",
       "\n",
       "    .dataframe tbody tr th {\n",
       "        vertical-align: top;\n",
       "    }\n",
       "\n",
       "    .dataframe thead th {\n",
       "        text-align: right;\n",
       "    }\n",
       "</style>\n",
       "<table border=\"1\" class=\"dataframe\">\n",
       "  <thead>\n",
       "    <tr style=\"text-align: right;\">\n",
       "      <th></th>\n",
       "      <th>Uniq Id</th>\n",
       "      <th>Crawl Timestamp</th>\n",
       "      <th>Pageurl</th>\n",
       "      <th>Website</th>\n",
       "      <th>Title</th>\n",
       "      <th>Rating</th>\n",
       "      <th>Review</th>\n",
       "      <th>Reviewer Name</th>\n",
       "      <th>Review Upvotes</th>\n",
       "      <th>Review Downvotes</th>\n",
       "      <th>Verified Purchaser</th>\n",
       "      <th>Recommended Purchase</th>\n",
       "      <th>Review Date</th>\n",
       "      <th>Five Star</th>\n",
       "      <th>Four Star</th>\n",
       "      <th>Three Star</th>\n",
       "      <th>Two Star</th>\n",
       "      <th>One Star</th>\n",
       "    </tr>\n",
       "  </thead>\n",
       "  <tbody>\n",
       "    <tr>\n",
       "      <th>0</th>\n",
       "      <td>1800878dcfa5255c691f2a87ce8b2869</td>\n",
       "      <td>2020-05-16 17:58:33 +0000</td>\n",
       "      <td>https://www.walmart.com/reviews/product/36907838</td>\n",
       "      <td>walmart.com</td>\n",
       "      <td>NaN</td>\n",
       "      <td>1.0</td>\n",
       "      <td>One star for looking nice. That’s it. After tr...</td>\n",
       "      <td>PJ10</td>\n",
       "      <td>0</td>\n",
       "      <td>0</td>\n",
       "      <td>No</td>\n",
       "      <td>No</td>\n",
       "      <td>7/28/2018</td>\n",
       "      <td>23.0</td>\n",
       "      <td>5.0</td>\n",
       "      <td>1.0</td>\n",
       "      <td>3.0</td>\n",
       "      <td>6.0</td>\n",
       "    </tr>\n",
       "    <tr>\n",
       "      <th>1</th>\n",
       "      <td>ac06ca1b77310d539c9a74eed7a8a8e2</td>\n",
       "      <td>2020-04-17 01:05:43 +0000</td>\n",
       "      <td>https://www.walmart.com/reviews/product/708236785</td>\n",
       "      <td>walmart.com</td>\n",
       "      <td>NaN</td>\n",
       "      <td>4.0</td>\n",
       "      <td>Love this phone so far have had it almost a mo...</td>\n",
       "      <td>KelJo</td>\n",
       "      <td>9</td>\n",
       "      <td>3</td>\n",
       "      <td>No</td>\n",
       "      <td>No</td>\n",
       "      <td>11/14/2017</td>\n",
       "      <td>91.0</td>\n",
       "      <td>23.0</td>\n",
       "      <td>13.0</td>\n",
       "      <td>9.0</td>\n",
       "      <td>31.0</td>\n",
       "    </tr>\n",
       "  </tbody>\n",
       "</table>\n",
       "</div>"
      ],
      "text/plain": [
       "                            Uniq Id            Crawl Timestamp  \\\n",
       "0  1800878dcfa5255c691f2a87ce8b2869  2020-05-16 17:58:33 +0000   \n",
       "1  ac06ca1b77310d539c9a74eed7a8a8e2  2020-04-17 01:05:43 +0000   \n",
       "\n",
       "                                             Pageurl      Website Title  \\\n",
       "0   https://www.walmart.com/reviews/product/36907838  walmart.com   NaN   \n",
       "1  https://www.walmart.com/reviews/product/708236785  walmart.com   NaN   \n",
       "\n",
       "   Rating                                             Review Reviewer Name  \\\n",
       "0     1.0  One star for looking nice. That’s it. After tr...          PJ10   \n",
       "1     4.0  Love this phone so far have had it almost a mo...         KelJo   \n",
       "\n",
       "   Review Upvotes  Review Downvotes Verified Purchaser Recommended Purchase  \\\n",
       "0               0                 0                 No                   No   \n",
       "1               9                 3                 No                   No   \n",
       "\n",
       "  Review Date  Five Star  Four Star  Three Star  Two Star  One Star  \n",
       "0   7/28/2018       23.0        5.0         1.0       3.0       6.0  \n",
       "1  11/14/2017       91.0       23.0        13.0       9.0      31.0  "
      ]
     },
     "execution_count": 88,
     "metadata": {},
     "output_type": "execute_result"
    }
   ],
   "source": [
    "data = pd.read_csv(\"Walmart_reviews.csv\")\n",
    "data.head(2)"
   ]
  },
  {
   "cell_type": "code",
   "execution_count": 89,
   "metadata": {},
   "outputs": [
    {
     "name": "stdout",
     "output_type": "stream",
     "text": [
      "Index(['Uniq Id', 'Crawl Timestamp', 'Pageurl', 'Website', 'Title', 'Rating',\n",
      "       'Review', 'Reviewer Name', 'Review Upvotes', 'Review Downvotes',\n",
      "       'Verified Purchaser', 'Recommended Purchase', 'Review Date',\n",
      "       'Five Star', 'Four Star', 'Three Star', 'Two Star', 'One Star'],\n",
      "      dtype='object')\n",
      "(29997, 18)\n",
      "<class 'pandas.core.frame.DataFrame'>\n",
      "RangeIndex: 29997 entries, 0 to 29996\n",
      "Data columns (total 18 columns):\n",
      " #   Column                Non-Null Count  Dtype  \n",
      "---  ------                --------------  -----  \n",
      " 0   Uniq Id               29997 non-null  object \n",
      " 1   Crawl Timestamp       29997 non-null  object \n",
      " 2   Pageurl               29997 non-null  object \n",
      " 3   Website               29997 non-null  object \n",
      " 4   Title                 2721 non-null   object \n",
      " 5   Rating                29997 non-null  float64\n",
      " 6   Review                24617 non-null  object \n",
      " 7   Reviewer Name         28377 non-null  object \n",
      " 8   Review Upvotes        29997 non-null  int64  \n",
      " 9   Review Downvotes      29997 non-null  int64  \n",
      " 10  Verified Purchaser    29997 non-null  object \n",
      " 11  Recommended Purchase  29997 non-null  object \n",
      " 12  Review Date           29997 non-null  object \n",
      " 13  Five Star             29903 non-null  float64\n",
      " 14  Four Star             29903 non-null  float64\n",
      " 15  Three Star            29903 non-null  float64\n",
      " 16  Two Star              29903 non-null  float64\n",
      " 17  One Star              29903 non-null  float64\n",
      "dtypes: float64(6), int64(2), object(10)\n",
      "memory usage: 4.1+ MB\n",
      "None\n"
     ]
    }
   ],
   "source": [
    "print(data.columns)\n",
    "print(data.shape)\n",
    "print(data.info())"
   ]
  },
  {
   "cell_type": "code",
   "execution_count": 90,
   "metadata": {},
   "outputs": [
    {
     "name": "stdout",
     "output_type": "stream",
     "text": [
      "Uniq Id                     0\n",
      "Crawl Timestamp             0\n",
      "Pageurl                     0\n",
      "Website                     0\n",
      "Title                   27276\n",
      "Rating                      0\n",
      "Review                   5380\n",
      "Reviewer Name            1620\n",
      "Review Upvotes              0\n",
      "Review Downvotes            0\n",
      "Verified Purchaser          0\n",
      "Recommended Purchase        0\n",
      "Review Date                 0\n",
      "Five Star                  94\n",
      "Four Star                  94\n",
      "Three Star                 94\n",
      "Two Star                   94\n",
      "One Star                   94\n",
      "dtype: int64\n"
     ]
    }
   ],
   "source": [
    "print(data.isnull().sum())"
   ]
  },
  {
   "cell_type": "code",
   "execution_count": 93,
   "metadata": {},
   "outputs": [],
   "source": [
    "columns_to_consider = ['Rating','Review','Reviewer Name','Verified Purchaser','Review Date']\n",
    "df = data[columns_to_consider]"
   ]
  },
  {
   "cell_type": "code",
   "execution_count": 94,
   "metadata": {},
   "outputs": [
    {
     "name": "stdout",
     "output_type": "stream",
     "text": [
      "After Renaming Columns: Index(['rating', 'review', 'reviewer_name', 'verified_purchaser',\n",
      "       'review_date'],\n",
      "      dtype='object')\n"
     ]
    }
   ],
   "source": [
    "df = df.copy()\n",
    "df.rename(columns=lambda x: x.strip().lower().replace(\" \", \"_\"), inplace=True)\n",
    "print(\"After Renaming Columns:\", df.columns)  "
   ]
  },
  {
   "cell_type": "code",
   "execution_count": 95,
   "metadata": {},
   "outputs": [
    {
     "data": {
      "text/html": [
       "<div>\n",
       "<style scoped>\n",
       "    .dataframe tbody tr th:only-of-type {\n",
       "        vertical-align: middle;\n",
       "    }\n",
       "\n",
       "    .dataframe tbody tr th {\n",
       "        vertical-align: top;\n",
       "    }\n",
       "\n",
       "    .dataframe thead th {\n",
       "        text-align: right;\n",
       "    }\n",
       "</style>\n",
       "<table border=\"1\" class=\"dataframe\">\n",
       "  <thead>\n",
       "    <tr style=\"text-align: right;\">\n",
       "      <th></th>\n",
       "      <th>rating</th>\n",
       "      <th>review</th>\n",
       "      <th>reviewer_name</th>\n",
       "      <th>verified_purchaser</th>\n",
       "      <th>review_date</th>\n",
       "    </tr>\n",
       "  </thead>\n",
       "  <tbody>\n",
       "    <tr>\n",
       "      <th>0</th>\n",
       "      <td>1.0</td>\n",
       "      <td>One star for looking nice. That’s it. After tr...</td>\n",
       "      <td>PJ10</td>\n",
       "      <td>No</td>\n",
       "      <td>7/28/2018</td>\n",
       "    </tr>\n",
       "    <tr>\n",
       "      <th>1</th>\n",
       "      <td>4.0</td>\n",
       "      <td>Love this phone so far have had it almost a mo...</td>\n",
       "      <td>KelJo</td>\n",
       "      <td>No</td>\n",
       "      <td>11/14/2017</td>\n",
       "    </tr>\n",
       "    <tr>\n",
       "      <th>2</th>\n",
       "      <td>4.0</td>\n",
       "      <td>This TV is absolutely fantastic. This is my th...</td>\n",
       "      <td>TheBigChalupa11</td>\n",
       "      <td>Yes</td>\n",
       "      <td>5/20/2020</td>\n",
       "    </tr>\n",
       "    <tr>\n",
       "      <th>3</th>\n",
       "      <td>5.0</td>\n",
       "      <td>Refurb, good shape, good price, does what I wa...</td>\n",
       "      <td>Micalic</td>\n",
       "      <td>No</td>\n",
       "      <td>7/9/2019</td>\n",
       "    </tr>\n",
       "    <tr>\n",
       "      <th>4</th>\n",
       "      <td>5.0</td>\n",
       "      <td>Very nice tablet! Looks brand new. Fired right...</td>\n",
       "      <td>jcan74</td>\n",
       "      <td>No</td>\n",
       "      <td>2/11/2020</td>\n",
       "    </tr>\n",
       "  </tbody>\n",
       "</table>\n",
       "</div>"
      ],
      "text/plain": [
       "   rating                                             review    reviewer_name  \\\n",
       "0     1.0  One star for looking nice. That’s it. After tr...             PJ10   \n",
       "1     4.0  Love this phone so far have had it almost a mo...            KelJo   \n",
       "2     4.0  This TV is absolutely fantastic. This is my th...  TheBigChalupa11   \n",
       "3     5.0  Refurb, good shape, good price, does what I wa...          Micalic   \n",
       "4     5.0  Very nice tablet! Looks brand new. Fired right...           jcan74   \n",
       "\n",
       "  verified_purchaser review_date  \n",
       "0                 No   7/28/2018  \n",
       "1                 No  11/14/2017  \n",
       "2                Yes   5/20/2020  \n",
       "3                 No    7/9/2019  \n",
       "4                 No   2/11/2020  "
      ]
     },
     "execution_count": 95,
     "metadata": {},
     "output_type": "execute_result"
    }
   ],
   "source": [
    "df.head()"
   ]
  },
  {
   "cell_type": "code",
   "execution_count": 98,
   "metadata": {},
   "outputs": [
    {
     "name": "stdout",
     "output_type": "stream",
     "text": [
      "(23702, 5)\n"
     ]
    }
   ],
   "source": [
    "df = df.dropna()\n",
    "print(df.shape)"
   ]
  },
  {
   "cell_type": "code",
   "execution_count": 99,
   "metadata": {},
   "outputs": [
    {
     "name": "stdout",
     "output_type": "stream",
     "text": [
      "<class 'pandas.core.frame.DataFrame'>\n",
      "Index: 23702 entries, 0 to 29996\n",
      "Data columns (total 5 columns):\n",
      " #   Column              Non-Null Count  Dtype  \n",
      "---  ------              --------------  -----  \n",
      " 0   rating              23702 non-null  float64\n",
      " 1   review              23702 non-null  object \n",
      " 2   reviewer_name       23702 non-null  object \n",
      " 3   verified_purchaser  23702 non-null  object \n",
      " 4   review_date         23702 non-null  object \n",
      "dtypes: float64(1), object(4)\n",
      "memory usage: 1.1+ MB\n",
      "None\n"
     ]
    }
   ],
   "source": [
    "print(df.info())"
   ]
  },
  {
   "cell_type": "code",
   "execution_count": 103,
   "metadata": {},
   "outputs": [
    {
     "data": {
      "text/html": [
       "<div>\n",
       "<style scoped>\n",
       "    .dataframe tbody tr th:only-of-type {\n",
       "        vertical-align: middle;\n",
       "    }\n",
       "\n",
       "    .dataframe tbody tr th {\n",
       "        vertical-align: top;\n",
       "    }\n",
       "\n",
       "    .dataframe thead th {\n",
       "        text-align: right;\n",
       "    }\n",
       "</style>\n",
       "<table border=\"1\" class=\"dataframe\">\n",
       "  <thead>\n",
       "    <tr style=\"text-align: right;\">\n",
       "      <th></th>\n",
       "      <th>rating</th>\n",
       "      <th>review</th>\n",
       "      <th>reviewer_name</th>\n",
       "      <th>verified_purchaser</th>\n",
       "      <th>review_date</th>\n",
       "    </tr>\n",
       "  </thead>\n",
       "  <tbody>\n",
       "    <tr>\n",
       "      <th>0</th>\n",
       "      <td>1.0</td>\n",
       "      <td>One star for looking nice. That’s it. After tr...</td>\n",
       "      <td>PJ10</td>\n",
       "      <td>0</td>\n",
       "      <td>7/28/2018</td>\n",
       "    </tr>\n",
       "    <tr>\n",
       "      <th>1</th>\n",
       "      <td>4.0</td>\n",
       "      <td>Love this phone so far have had it almost a mo...</td>\n",
       "      <td>KelJo</td>\n",
       "      <td>0</td>\n",
       "      <td>11/14/2017</td>\n",
       "    </tr>\n",
       "    <tr>\n",
       "      <th>2</th>\n",
       "      <td>4.0</td>\n",
       "      <td>This TV is absolutely fantastic. This is my th...</td>\n",
       "      <td>TheBigChalupa11</td>\n",
       "      <td>1</td>\n",
       "      <td>5/20/2020</td>\n",
       "    </tr>\n",
       "    <tr>\n",
       "      <th>3</th>\n",
       "      <td>5.0</td>\n",
       "      <td>Refurb, good shape, good price, does what I wa...</td>\n",
       "      <td>Micalic</td>\n",
       "      <td>0</td>\n",
       "      <td>7/9/2019</td>\n",
       "    </tr>\n",
       "    <tr>\n",
       "      <th>4</th>\n",
       "      <td>5.0</td>\n",
       "      <td>Very nice tablet! Looks brand new. Fired right...</td>\n",
       "      <td>jcan74</td>\n",
       "      <td>0</td>\n",
       "      <td>2/11/2020</td>\n",
       "    </tr>\n",
       "  </tbody>\n",
       "</table>\n",
       "</div>"
      ],
      "text/plain": [
       "   rating                                             review    reviewer_name  \\\n",
       "0     1.0  One star for looking nice. That’s it. After tr...             PJ10   \n",
       "1     4.0  Love this phone so far have had it almost a mo...            KelJo   \n",
       "2     4.0  This TV is absolutely fantastic. This is my th...  TheBigChalupa11   \n",
       "3     5.0  Refurb, good shape, good price, does what I wa...          Micalic   \n",
       "4     5.0  Very nice tablet! Looks brand new. Fired right...           jcan74   \n",
       "\n",
       "   verified_purchaser review_date  \n",
       "0                   0   7/28/2018  \n",
       "1                   0  11/14/2017  \n",
       "2                   1   5/20/2020  \n",
       "3                   0    7/9/2019  \n",
       "4                   0   2/11/2020  "
      ]
     },
     "execution_count": 103,
     "metadata": {},
     "output_type": "execute_result"
    }
   ],
   "source": [
    "# Replace 'yes' with 1 and 'no' with 0\n",
    "df['verified_purchaser'] = df['verified_purchaser'].replace({'Yes':1, 'No':0})\n",
    "df.head()"
   ]
  },
  {
   "cell_type": "code",
   "execution_count": 107,
   "metadata": {},
   "outputs": [
    {
     "data": {
      "image/png": "[encoded data removed]",
      "text/plain": [
       "<Figure size 800x400 with 2 Axes>"
      ]
     },
     "metadata": {},
     "output_type": "display_data"
    }
   ],
   "source": [
    "value_counts_rating = df['rating'].value_counts()\n",
    "value_counts_verified = df['verified_purchaser'].value_counts()\n",
    "\n",
    "fig, axes = plt.subplots(1,2,figsize=(8,4))\n",
    "value_counts_rating.plot(kind='bar',ax=axes[0])\n",
    "value_counts_verified.plot(kind='bar',ax=axes[1])\n",
    "plt.show()"
   ]
  },
  {
   "cell_type": "code",
   "execution_count": 108,
   "metadata": {},
   "outputs": [
    {
     "data": {
      "text/html": [
       "<div>\n",
       "<style scoped>\n",
       "    .dataframe tbody tr th:only-of-type {\n",
       "        vertical-align: middle;\n",
       "    }\n",
       "\n",
       "    .dataframe tbody tr th {\n",
       "        vertical-align: top;\n",
       "    }\n",
       "\n",
       "    .dataframe thead th {\n",
       "        text-align: right;\n",
       "    }\n",
       "</style>\n",
       "<table border=\"1\" class=\"dataframe\">\n",
       "  <thead>\n",
       "    <tr style=\"text-align: right;\">\n",
       "      <th></th>\n",
       "      <th>rating</th>\n",
       "      <th>review</th>\n",
       "      <th>reviewer_name</th>\n",
       "      <th>verified_purchaser</th>\n",
       "      <th>review_date</th>\n",
       "    </tr>\n",
       "  </thead>\n",
       "  <tbody>\n",
       "    <tr>\n",
       "      <th>0</th>\n",
       "      <td>1.0</td>\n",
       "      <td>One star for looking nice. That’s it. After tr...</td>\n",
       "      <td>PJ10</td>\n",
       "      <td>0</td>\n",
       "      <td>7/28/2018</td>\n",
       "    </tr>\n",
       "    <tr>\n",
       "      <th>1</th>\n",
       "      <td>4.0</td>\n",
       "      <td>Love this phone so far have had it almost a mo...</td>\n",
       "      <td>KelJo</td>\n",
       "      <td>0</td>\n",
       "      <td>11/14/2017</td>\n",
       "    </tr>\n",
       "    <tr>\n",
       "      <th>2</th>\n",
       "      <td>4.0</td>\n",
       "      <td>This TV is absolutely fantastic. This is my th...</td>\n",
       "      <td>TheBigChalupa11</td>\n",
       "      <td>1</td>\n",
       "      <td>5/20/2020</td>\n",
       "    </tr>\n",
       "    <tr>\n",
       "      <th>3</th>\n",
       "      <td>5.0</td>\n",
       "      <td>Refurb, good shape, good price, does what I wa...</td>\n",
       "      <td>Micalic</td>\n",
       "      <td>0</td>\n",
       "      <td>7/9/2019</td>\n",
       "    </tr>\n",
       "    <tr>\n",
       "      <th>4</th>\n",
       "      <td>5.0</td>\n",
       "      <td>Very nice tablet! Looks brand new. Fired right...</td>\n",
       "      <td>jcan74</td>\n",
       "      <td>0</td>\n",
       "      <td>2/11/2020</td>\n",
       "    </tr>\n",
       "  </tbody>\n",
       "</table>\n",
       "</div>"
      ],
      "text/plain": [
       "   rating                                             review    reviewer_name  \\\n",
       "0     1.0  One star for looking nice. That’s it. After tr...             PJ10   \n",
       "1     4.0  Love this phone so far have had it almost a mo...            KelJo   \n",
       "2     4.0  This TV is absolutely fantastic. This is my th...  TheBigChalupa11   \n",
       "3     5.0  Refurb, good shape, good price, does what I wa...          Micalic   \n",
       "4     5.0  Very nice tablet! Looks brand new. Fired right...           jcan74   \n",
       "\n",
       "   verified_purchaser review_date  \n",
       "0                   0   7/28/2018  \n",
       "1                   0  11/14/2017  \n",
       "2                   1   5/20/2020  \n",
       "3                   0    7/9/2019  \n",
       "4                   0   2/11/2020  "
      ]
     },
     "execution_count": 108,
     "metadata": {},
     "output_type": "execute_result"
    }
   ],
   "source": [
    "df.head()"
   ]
  },
  {
   "cell_type": "code",
   "execution_count": 109,
   "metadata": {},
   "outputs": [],
   "source": [
    "df.to_csv(\"cleaneddata.csv\", index=False)"
   ]
  },
  {
   "cell_type": "code",
   "execution_count": null,
   "metadata": {},
   "outputs": [],
   "source": []
  }
 ],
 "metadata": {
  "kernelspec": {
   "display_name": "projectai",
   "language": "python",
   "name": "python3"
  },
  "language_info": {
   "codemirror_mode": {
    "name": "ipython",
    "version": 3
   },
   "file_extension": ".py",
   "mimetype": "text/x-python",
   "name": "python",
   "nbconvert_exporter": "python",
   "pygments_lexer": "ipython3",
   "version": "3.9.21"
  }
 },
 "nbformat": 4,
 "nbformat_minor": 2
}
